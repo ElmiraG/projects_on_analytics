{
  "nbformat": 4,
  "nbformat_minor": 0,
  "metadata": {
    "colab": {
      "provenance": [],
      "toc_visible": true
    },
    "kernelspec": {
      "name": "python3",
      "display_name": "Python 3"
    },
    "language_info": {
      "name": "python"
    }
  },
  "cells": [
    {
      "cell_type": "markdown",
      "source": [
        "# Анализ цен на книги и их популярности среди читателей"
      ],
      "metadata": {
        "id": "MtBoQB5a36jD"
      }
    },
    {
      "cell_type": "markdown",
      "source": [
        "Проект посвящен анализу взаимосвязи между ценами на книги и их рейтингами, а также влиянию рейтинга на количество рецензий. Для анализа будут использована библиотека SciPy для статистических тестов, таких как t-тест и ANOVA."
      ],
      "metadata": {
        "id": "jFL9loH-YRti"
      }
    },
    {
      "cell_type": "markdown",
      "source": [
        "## Описание данных\n",
        "\n",
        "Набор данных, который включает информацию о ценах на книги и их рейтинге среди пользователей. Для каждой книги указаны следующие параметры:\n",
        "\n",
        "- **Name** - название книги\n",
        "- **Author** - автор\n",
        "- **User Rating** - рейтинг книги, выставленный пользователями\n",
        "- **Reviews** - количество рецензий\n",
        "- **Price** — цена книги\n",
        "- **Year** - год издания\n",
        "- **Genre** — жанр\n",
        "- **User Rating (Round)** — округленный рейтинг книги\n",
        "- **Price Above Average** — переменная, которая принимает значение «Yes», если цена книги выше средней, и «No», если ниже.\n",
        "\n",
        "## План\n",
        "1. Анализ влияния цены на рейтинг книг среди пользователей (t-тест)\n",
        "2. Влияние рейтинга книги на количество рецензий: исследование взаимосвязи с помощью теста ANOVA\n",
        "3. Общий вывод"
      ],
      "metadata": {
        "id": "-xmZdbAUz97o"
      }
    },
    {
      "cell_type": "markdown",
      "source": [
        "# Импорт библиотек"
      ],
      "metadata": {
        "id": "BdhHk_6Sw-JB"
      }
    },
    {
      "cell_type": "code",
      "source": [
        "from google.colab import drive\n",
        "drive.mount('/content/drive')"
      ],
      "metadata": {
        "colab": {
          "base_uri": "https://localhost:8080/"
        },
        "id": "5nk3FFOWdGnh",
        "outputId": "6a84a322-9b59-4137-91b7-e4755eaa2b89"
      },
      "execution_count": 1,
      "outputs": [
        {
          "output_type": "stream",
          "name": "stdout",
          "text": [
            "Drive already mounted at /content/drive; to attempt to forcibly remount, call drive.mount(\"/content/drive\", force_remount=True).\n"
          ]
        }
      ]
    },
    {
      "cell_type": "code",
      "source": [
        "import pandas as pd\n",
        "from scipy.stats import levene\n",
        "from scipy.stats import shapiro\n",
        "from scipy.stats import ttest_ind\n",
        "from scipy.stats import f_oneway"
      ],
      "metadata": {
        "id": "fHEQ-pgAdWQs"
      },
      "execution_count": 2,
      "outputs": []
    },
    {
      "cell_type": "code",
      "source": [
        "df = pd.read_csv('/content/drive/MyDrive/books_prep.csv')"
      ],
      "metadata": {
        "id": "02-CIJfRdZNj"
      },
      "execution_count": 3,
      "outputs": []
    },
    {
      "cell_type": "code",
      "source": [
        "df.head()"
      ],
      "metadata": {
        "colab": {
          "base_uri": "https://localhost:8080/",
          "height": 206
        },
        "id": "WkVpbx4ldekj",
        "outputId": "47f92dfd-951b-4fcb-969c-c72b7e18a976"
      },
      "execution_count": 4,
      "outputs": [
        {
          "output_type": "execute_result",
          "data": {
            "text/plain": [
              "                                                Name  \\\n",
              "0                      10-Day Green Smoothie Cleanse   \n",
              "1                                  11/22/63: A Novel   \n",
              "2            12 Rules for Life: An Antidote to Chaos   \n",
              "3                             1984 (Signet Classics)   \n",
              "4  5,000 Awesome Facts (About Everything!) (Natio...   \n",
              "\n",
              "                     Author  User Rating  Reviews  Price  Year        Genre  \\\n",
              "0                  JJ Smith          4.7    17350      8  2016  Non Fiction   \n",
              "1              Stephen King          4.6     2052     22  2011      Fiction   \n",
              "2        Jordan B. Peterson          4.7    18979     15  2018  Non Fiction   \n",
              "3             George Orwell          4.7    21424      6  2017      Fiction   \n",
              "4  National Geographic Kids          4.8     7665     12  2019  Non Fiction   \n",
              "\n",
              "   User Rating (Round) Price (Above Average)  \n",
              "0                    5                    No  \n",
              "1                    5                   Yes  \n",
              "2                    5                   Yes  \n",
              "3                    5                    No  \n",
              "4                    5                    No  "
            ],
            "text/html": [
              "\n",
              "  <div id=\"df-1a463fc3-4306-4c5b-8271-5f7948b7abff\" class=\"colab-df-container\">\n",
              "    <div>\n",
              "<style scoped>\n",
              "    .dataframe tbody tr th:only-of-type {\n",
              "        vertical-align: middle;\n",
              "    }\n",
              "\n",
              "    .dataframe tbody tr th {\n",
              "        vertical-align: top;\n",
              "    }\n",
              "\n",
              "    .dataframe thead th {\n",
              "        text-align: right;\n",
              "    }\n",
              "</style>\n",
              "<table border=\"1\" class=\"dataframe\">\n",
              "  <thead>\n",
              "    <tr style=\"text-align: right;\">\n",
              "      <th></th>\n",
              "      <th>Name</th>\n",
              "      <th>Author</th>\n",
              "      <th>User Rating</th>\n",
              "      <th>Reviews</th>\n",
              "      <th>Price</th>\n",
              "      <th>Year</th>\n",
              "      <th>Genre</th>\n",
              "      <th>User Rating (Round)</th>\n",
              "      <th>Price (Above Average)</th>\n",
              "    </tr>\n",
              "  </thead>\n",
              "  <tbody>\n",
              "    <tr>\n",
              "      <th>0</th>\n",
              "      <td>10-Day Green Smoothie Cleanse</td>\n",
              "      <td>JJ Smith</td>\n",
              "      <td>4.7</td>\n",
              "      <td>17350</td>\n",
              "      <td>8</td>\n",
              "      <td>2016</td>\n",
              "      <td>Non Fiction</td>\n",
              "      <td>5</td>\n",
              "      <td>No</td>\n",
              "    </tr>\n",
              "    <tr>\n",
              "      <th>1</th>\n",
              "      <td>11/22/63: A Novel</td>\n",
              "      <td>Stephen King</td>\n",
              "      <td>4.6</td>\n",
              "      <td>2052</td>\n",
              "      <td>22</td>\n",
              "      <td>2011</td>\n",
              "      <td>Fiction</td>\n",
              "      <td>5</td>\n",
              "      <td>Yes</td>\n",
              "    </tr>\n",
              "    <tr>\n",
              "      <th>2</th>\n",
              "      <td>12 Rules for Life: An Antidote to Chaos</td>\n",
              "      <td>Jordan B. Peterson</td>\n",
              "      <td>4.7</td>\n",
              "      <td>18979</td>\n",
              "      <td>15</td>\n",
              "      <td>2018</td>\n",
              "      <td>Non Fiction</td>\n",
              "      <td>5</td>\n",
              "      <td>Yes</td>\n",
              "    </tr>\n",
              "    <tr>\n",
              "      <th>3</th>\n",
              "      <td>1984 (Signet Classics)</td>\n",
              "      <td>George Orwell</td>\n",
              "      <td>4.7</td>\n",
              "      <td>21424</td>\n",
              "      <td>6</td>\n",
              "      <td>2017</td>\n",
              "      <td>Fiction</td>\n",
              "      <td>5</td>\n",
              "      <td>No</td>\n",
              "    </tr>\n",
              "    <tr>\n",
              "      <th>4</th>\n",
              "      <td>5,000 Awesome Facts (About Everything!) (Natio...</td>\n",
              "      <td>National Geographic Kids</td>\n",
              "      <td>4.8</td>\n",
              "      <td>7665</td>\n",
              "      <td>12</td>\n",
              "      <td>2019</td>\n",
              "      <td>Non Fiction</td>\n",
              "      <td>5</td>\n",
              "      <td>No</td>\n",
              "    </tr>\n",
              "  </tbody>\n",
              "</table>\n",
              "</div>\n",
              "    <div class=\"colab-df-buttons\">\n",
              "\n",
              "  <div class=\"colab-df-container\">\n",
              "    <button class=\"colab-df-convert\" onclick=\"convertToInteractive('df-1a463fc3-4306-4c5b-8271-5f7948b7abff')\"\n",
              "            title=\"Convert this dataframe to an interactive table.\"\n",
              "            style=\"display:none;\">\n",
              "\n",
              "  <svg xmlns=\"http://www.w3.org/2000/svg\" height=\"24px\" viewBox=\"0 -960 960 960\">\n",
              "    <path d=\"M120-120v-720h720v720H120Zm60-500h600v-160H180v160Zm220 220h160v-160H400v160Zm0 220h160v-160H400v160ZM180-400h160v-160H180v160Zm440 0h160v-160H620v160ZM180-180h160v-160H180v160Zm440 0h160v-160H620v160Z\"/>\n",
              "  </svg>\n",
              "    </button>\n",
              "\n",
              "  <style>\n",
              "    .colab-df-container {\n",
              "      display:flex;\n",
              "      gap: 12px;\n",
              "    }\n",
              "\n",
              "    .colab-df-convert {\n",
              "      background-color: #E8F0FE;\n",
              "      border: none;\n",
              "      border-radius: 50%;\n",
              "      cursor: pointer;\n",
              "      display: none;\n",
              "      fill: #1967D2;\n",
              "      height: 32px;\n",
              "      padding: 0 0 0 0;\n",
              "      width: 32px;\n",
              "    }\n",
              "\n",
              "    .colab-df-convert:hover {\n",
              "      background-color: #E2EBFA;\n",
              "      box-shadow: 0px 1px 2px rgba(60, 64, 67, 0.3), 0px 1px 3px 1px rgba(60, 64, 67, 0.15);\n",
              "      fill: #174EA6;\n",
              "    }\n",
              "\n",
              "    .colab-df-buttons div {\n",
              "      margin-bottom: 4px;\n",
              "    }\n",
              "\n",
              "    [theme=dark] .colab-df-convert {\n",
              "      background-color: #3B4455;\n",
              "      fill: #D2E3FC;\n",
              "    }\n",
              "\n",
              "    [theme=dark] .colab-df-convert:hover {\n",
              "      background-color: #434B5C;\n",
              "      box-shadow: 0px 1px 3px 1px rgba(0, 0, 0, 0.15);\n",
              "      filter: drop-shadow(0px 1px 2px rgba(0, 0, 0, 0.3));\n",
              "      fill: #FFFFFF;\n",
              "    }\n",
              "  </style>\n",
              "\n",
              "    <script>\n",
              "      const buttonEl =\n",
              "        document.querySelector('#df-1a463fc3-4306-4c5b-8271-5f7948b7abff button.colab-df-convert');\n",
              "      buttonEl.style.display =\n",
              "        google.colab.kernel.accessAllowed ? 'block' : 'none';\n",
              "\n",
              "      async function convertToInteractive(key) {\n",
              "        const element = document.querySelector('#df-1a463fc3-4306-4c5b-8271-5f7948b7abff');\n",
              "        const dataTable =\n",
              "          await google.colab.kernel.invokeFunction('convertToInteractive',\n",
              "                                                    [key], {});\n",
              "        if (!dataTable) return;\n",
              "\n",
              "        const docLinkHtml = 'Like what you see? Visit the ' +\n",
              "          '<a target=\"_blank\" href=https://colab.research.google.com/notebooks/data_table.ipynb>data table notebook</a>'\n",
              "          + ' to learn more about interactive tables.';\n",
              "        element.innerHTML = '';\n",
              "        dataTable['output_type'] = 'display_data';\n",
              "        await google.colab.output.renderOutput(dataTable, element);\n",
              "        const docLink = document.createElement('div');\n",
              "        docLink.innerHTML = docLinkHtml;\n",
              "        element.appendChild(docLink);\n",
              "      }\n",
              "    </script>\n",
              "  </div>\n",
              "\n",
              "\n",
              "<div id=\"df-cd2817e5-c7e4-408c-a3db-a7e3a9da73b3\">\n",
              "  <button class=\"colab-df-quickchart\" onclick=\"quickchart('df-cd2817e5-c7e4-408c-a3db-a7e3a9da73b3')\"\n",
              "            title=\"Suggest charts\"\n",
              "            style=\"display:none;\">\n",
              "\n",
              "<svg xmlns=\"http://www.w3.org/2000/svg\" height=\"24px\"viewBox=\"0 0 24 24\"\n",
              "     width=\"24px\">\n",
              "    <g>\n",
              "        <path d=\"M19 3H5c-1.1 0-2 .9-2 2v14c0 1.1.9 2 2 2h14c1.1 0 2-.9 2-2V5c0-1.1-.9-2-2-2zM9 17H7v-7h2v7zm4 0h-2V7h2v10zm4 0h-2v-4h2v4z\"/>\n",
              "    </g>\n",
              "</svg>\n",
              "  </button>\n",
              "\n",
              "<style>\n",
              "  .colab-df-quickchart {\n",
              "      --bg-color: #E8F0FE;\n",
              "      --fill-color: #1967D2;\n",
              "      --hover-bg-color: #E2EBFA;\n",
              "      --hover-fill-color: #174EA6;\n",
              "      --disabled-fill-color: #AAA;\n",
              "      --disabled-bg-color: #DDD;\n",
              "  }\n",
              "\n",
              "  [theme=dark] .colab-df-quickchart {\n",
              "      --bg-color: #3B4455;\n",
              "      --fill-color: #D2E3FC;\n",
              "      --hover-bg-color: #434B5C;\n",
              "      --hover-fill-color: #FFFFFF;\n",
              "      --disabled-bg-color: #3B4455;\n",
              "      --disabled-fill-color: #666;\n",
              "  }\n",
              "\n",
              "  .colab-df-quickchart {\n",
              "    background-color: var(--bg-color);\n",
              "    border: none;\n",
              "    border-radius: 50%;\n",
              "    cursor: pointer;\n",
              "    display: none;\n",
              "    fill: var(--fill-color);\n",
              "    height: 32px;\n",
              "    padding: 0;\n",
              "    width: 32px;\n",
              "  }\n",
              "\n",
              "  .colab-df-quickchart:hover {\n",
              "    background-color: var(--hover-bg-color);\n",
              "    box-shadow: 0 1px 2px rgba(60, 64, 67, 0.3), 0 1px 3px 1px rgba(60, 64, 67, 0.15);\n",
              "    fill: var(--button-hover-fill-color);\n",
              "  }\n",
              "\n",
              "  .colab-df-quickchart-complete:disabled,\n",
              "  .colab-df-quickchart-complete:disabled:hover {\n",
              "    background-color: var(--disabled-bg-color);\n",
              "    fill: var(--disabled-fill-color);\n",
              "    box-shadow: none;\n",
              "  }\n",
              "\n",
              "  .colab-df-spinner {\n",
              "    border: 2px solid var(--fill-color);\n",
              "    border-color: transparent;\n",
              "    border-bottom-color: var(--fill-color);\n",
              "    animation:\n",
              "      spin 1s steps(1) infinite;\n",
              "  }\n",
              "\n",
              "  @keyframes spin {\n",
              "    0% {\n",
              "      border-color: transparent;\n",
              "      border-bottom-color: var(--fill-color);\n",
              "      border-left-color: var(--fill-color);\n",
              "    }\n",
              "    20% {\n",
              "      border-color: transparent;\n",
              "      border-left-color: var(--fill-color);\n",
              "      border-top-color: var(--fill-color);\n",
              "    }\n",
              "    30% {\n",
              "      border-color: transparent;\n",
              "      border-left-color: var(--fill-color);\n",
              "      border-top-color: var(--fill-color);\n",
              "      border-right-color: var(--fill-color);\n",
              "    }\n",
              "    40% {\n",
              "      border-color: transparent;\n",
              "      border-right-color: var(--fill-color);\n",
              "      border-top-color: var(--fill-color);\n",
              "    }\n",
              "    60% {\n",
              "      border-color: transparent;\n",
              "      border-right-color: var(--fill-color);\n",
              "    }\n",
              "    80% {\n",
              "      border-color: transparent;\n",
              "      border-right-color: var(--fill-color);\n",
              "      border-bottom-color: var(--fill-color);\n",
              "    }\n",
              "    90% {\n",
              "      border-color: transparent;\n",
              "      border-bottom-color: var(--fill-color);\n",
              "    }\n",
              "  }\n",
              "</style>\n",
              "\n",
              "  <script>\n",
              "    async function quickchart(key) {\n",
              "      const quickchartButtonEl =\n",
              "        document.querySelector('#' + key + ' button');\n",
              "      quickchartButtonEl.disabled = true;  // To prevent multiple clicks.\n",
              "      quickchartButtonEl.classList.add('colab-df-spinner');\n",
              "      try {\n",
              "        const charts = await google.colab.kernel.invokeFunction(\n",
              "            'suggestCharts', [key], {});\n",
              "      } catch (error) {\n",
              "        console.error('Error during call to suggestCharts:', error);\n",
              "      }\n",
              "      quickchartButtonEl.classList.remove('colab-df-spinner');\n",
              "      quickchartButtonEl.classList.add('colab-df-quickchart-complete');\n",
              "    }\n",
              "    (() => {\n",
              "      let quickchartButtonEl =\n",
              "        document.querySelector('#df-cd2817e5-c7e4-408c-a3db-a7e3a9da73b3 button');\n",
              "      quickchartButtonEl.style.display =\n",
              "        google.colab.kernel.accessAllowed ? 'block' : 'none';\n",
              "    })();\n",
              "  </script>\n",
              "</div>\n",
              "    </div>\n",
              "  </div>\n"
            ],
            "application/vnd.google.colaboratory.intrinsic+json": {
              "type": "dataframe",
              "variable_name": "df",
              "summary": "{\n  \"name\": \"df\",\n  \"rows\": 550,\n  \"fields\": [\n    {\n      \"column\": \"Name\",\n      \"properties\": {\n        \"dtype\": \"string\",\n        \"num_unique_values\": 351,\n        \"samples\": [\n          \"Life\",\n          \"Where the Crawdads Sing\",\n          \"Thinking, Fast and Slow\"\n        ],\n        \"semantic_type\": \"\",\n        \"description\": \"\"\n      }\n    },\n    {\n      \"column\": \"Author\",\n      \"properties\": {\n        \"dtype\": \"category\",\n        \"num_unique_values\": 248,\n        \"samples\": [\n          \"Jeff Kinney\",\n          \"Amor Towles\",\n          \"Stieg Larsson\"\n        ],\n        \"semantic_type\": \"\",\n        \"description\": \"\"\n      }\n    },\n    {\n      \"column\": \"User Rating\",\n      \"properties\": {\n        \"dtype\": \"number\",\n        \"std\": 0.22698036502519578,\n        \"min\": 3.3,\n        \"max\": 4.9,\n        \"num_unique_values\": 14,\n        \"samples\": [\n          3.8,\n          4.0,\n          4.7\n        ],\n        \"semantic_type\": \"\",\n        \"description\": \"\"\n      }\n    },\n    {\n      \"column\": \"Reviews\",\n      \"properties\": {\n        \"dtype\": \"number\",\n        \"std\": 11731,\n        \"min\": 37,\n        \"max\": 87841,\n        \"num_unique_values\": 346,\n        \"samples\": [\n          5972,\n          1884,\n          49288\n        ],\n        \"semantic_type\": \"\",\n        \"description\": \"\"\n      }\n    },\n    {\n      \"column\": \"Price\",\n      \"properties\": {\n        \"dtype\": \"number\",\n        \"std\": 10,\n        \"min\": 0,\n        \"max\": 105,\n        \"num_unique_values\": 40,\n        \"samples\": [\n          0,\n          24,\n          9\n        ],\n        \"semantic_type\": \"\",\n        \"description\": \"\"\n      }\n    },\n    {\n      \"column\": \"Year\",\n      \"properties\": {\n        \"dtype\": \"number\",\n        \"std\": 3,\n        \"min\": 2009,\n        \"max\": 2019,\n        \"num_unique_values\": 11,\n        \"samples\": [\n          2014,\n          2016,\n          2013\n        ],\n        \"semantic_type\": \"\",\n        \"description\": \"\"\n      }\n    },\n    {\n      \"column\": \"Genre\",\n      \"properties\": {\n        \"dtype\": \"category\",\n        \"num_unique_values\": 2,\n        \"samples\": [\n          \"Fiction\",\n          \"Non Fiction\"\n        ],\n        \"semantic_type\": \"\",\n        \"description\": \"\"\n      }\n    },\n    {\n      \"column\": \"User Rating (Round)\",\n      \"properties\": {\n        \"dtype\": \"number\",\n        \"std\": 0,\n        \"min\": 3,\n        \"max\": 5,\n        \"num_unique_values\": 3,\n        \"samples\": [\n          5,\n          4\n        ],\n        \"semantic_type\": \"\",\n        \"description\": \"\"\n      }\n    },\n    {\n      \"column\": \"Price (Above Average)\",\n      \"properties\": {\n        \"dtype\": \"category\",\n        \"num_unique_values\": 2,\n        \"samples\": [\n          \"Yes\",\n          \"No\"\n        ],\n        \"semantic_type\": \"\",\n        \"description\": \"\"\n      }\n    }\n  ]\n}"
            }
          },
          "metadata": {},
          "execution_count": 4
        }
      ]
    },
    {
      "cell_type": "code",
      "source": [
        "df.info()"
      ],
      "metadata": {
        "colab": {
          "base_uri": "https://localhost:8080/"
        },
        "id": "mXHEX4AOgRjE",
        "outputId": "fad3484b-4cf5-4930-c602-c89ce3bbc90a"
      },
      "execution_count": 5,
      "outputs": [
        {
          "output_type": "stream",
          "name": "stdout",
          "text": [
            "<class 'pandas.core.frame.DataFrame'>\n",
            "RangeIndex: 550 entries, 0 to 549\n",
            "Data columns (total 9 columns):\n",
            " #   Column                 Non-Null Count  Dtype  \n",
            "---  ------                 --------------  -----  \n",
            " 0   Name                   550 non-null    object \n",
            " 1   Author                 550 non-null    object \n",
            " 2   User Rating            550 non-null    float64\n",
            " 3   Reviews                550 non-null    int64  \n",
            " 4   Price                  550 non-null    int64  \n",
            " 5   Year                   550 non-null    int64  \n",
            " 6   Genre                  550 non-null    object \n",
            " 7   User Rating (Round)    550 non-null    int64  \n",
            " 8   Price (Above Average)  550 non-null    object \n",
            "dtypes: float64(1), int64(4), object(4)\n",
            "memory usage: 38.8+ KB\n"
          ]
        }
      ]
    },
    {
      "cell_type": "markdown",
      "source": [
        "## Анализ влияния цены на рейтинг книг среди пользователей (t-тест)"
      ],
      "metadata": {
        "id": "OqzpIjIHxRNb"
      }
    },
    {
      "cell_type": "markdown",
      "source": [
        "Проанализирую набор данных о ценах на книги и их рейтинге среди пользователей. Цель — определить, влияет ли стоимость книги на её оценку пользователями. Для этого мы проведу ряд анализов и тестов, чтобы проверить гипотезу о независимости рейтинга книги от её цены."
      ],
      "metadata": {
        "id": "JcDbmg3Yz20z"
      }
    },
    {
      "cell_type": "markdown",
      "source": [
        "**Проверка гипотезы о независимости рейтинга от цены**\n",
        "\n",
        "Я выполняю исследование, чтобы проверить гипотезу о независимости рейтинга книги от её стоимости.\n",
        "\n",
        "Для этого я сделаю следующее:\n",
        "\n",
        "- Рассчитаю средние значения пользовательского рейтинга для книг из разных ценовых категорий: «дорогие» и «дешёвые».\n",
        "\n",
        "- Проведу тест, чтобы определить, равны ли дисперсии рейтингов в этих двух группах.\n",
        "\n",
        "- Проверю, зависит ли средняя оценка книги от её цены.\n",
        "\n",
        "Результаты исследования помогут нам понять, есть ли связь между стоимостью книги и её рейтингом среди пользователей."
      ],
      "metadata": {
        "id": "bORnCDoX0QOw"
      }
    },
    {
      "cell_type": "code",
      "source": [
        "# Cредние значения рейтинга для «дешёвых» и «дорогих» книг.\n",
        "\n",
        "# для «дорогих» книг\n",
        "print('среднее значения рейтинга для «дорогих» книг:', df[df['Price (Above Average)'] == \"Yes\"]['User Rating'].mean().round(2))\n",
        "\n",
        "# для «дешёвых» книг\n",
        "print('среднее значения рейтинга для «дешёвых» книг:', df[df['Price (Above Average)'] == 'No']['User Rating'].mean().round(2))"
      ],
      "metadata": {
        "colab": {
          "base_uri": "https://localhost:8080/"
        },
        "id": "2ByoFpw3fWBD",
        "outputId": "490bd69e-65cf-40c5-ec96-1dd046d578e7"
      },
      "execution_count": 6,
      "outputs": [
        {
          "output_type": "stream",
          "name": "stdout",
          "text": [
            "среднее значения рейтинга для «дорогих» книг: 4.56\n",
            "среднее значения рейтинга для «дешёвых» книг: 4.65\n"
          ]
        }
      ]
    },
    {
      "cell_type": "markdown",
      "source": [
        "Тест Шапиро — Уилка используется для проверки нормальности распределения данных. Он оценивает, насколько близко распределение выборки соответствует нормальному распределению.\n",
        "\n",
        "В данном проекте применяется для средних значений пользовательских оценок двух групп: товаров с ценой выше среднего и товаров с ценой ниже среднего. Проверка нормальности позволяет определить, можно ли использовать параметрические методы анализа, такие как t-тест, для сравнения этих двух групп. Если данные не нормальны, могут быть использованы непараметрические методы."
      ],
      "metadata": {
        "id": "_HG1s4RhfRAN"
      }
    },
    {
      "cell_type": "code",
      "source": [
        "# Проверка нормальности распределения средних значений в выборке. Тест Шапиро — Уилка.\n",
        "means_cheap = []\n",
        "means_exp = []\n",
        "n = 1\n",
        "\n",
        "while n < 500:\n",
        "  n += 1\n",
        "  sample_cheap = df[df['Price (Above Average)'] == \"Yes\"].sample(100)['User Rating'].mean()\n",
        "  sample_exp = df[df['Price (Above Average)'] == \"No\"].sample(100)['User Rating'].mean()\n",
        "  means_cheap.append(sample_cheap)\n",
        "  means_exp.append(sample_exp)\n",
        "\n",
        "print('means_cheap:', shapiro(means_cheap))\n",
        "print('means_exp:', shapiro(means_exp))"
      ],
      "metadata": {
        "colab": {
          "base_uri": "https://localhost:8080/"
        },
        "id": "sDr5oWV6sRya",
        "outputId": "922caec1-b5ad-40d7-932e-7568b154388b"
      },
      "execution_count": 7,
      "outputs": [
        {
          "output_type": "stream",
          "name": "stdout",
          "text": [
            "means_cheap: ShapiroResult(statistic=0.9976996180606463, pvalue=0.7325791946907387)\n",
            "means_exp: ShapiroResult(statistic=0.98567506471082, pvalue=7.98681786844253e-05)\n"
          ]
        }
      ]
    },
    {
      "cell_type": "markdown",
      "source": [
        "Значение p-value не является значимым, поэтому нельзя отклонить нулевую гипотезу и будем предполагать, что средние значения в выборках распределены нормально."
      ],
      "metadata": {
        "id": "3FZgmGNQt20a"
      }
    },
    {
      "cell_type": "markdown",
      "source": [
        "Проведу тест для определения равенства дисперсий у «дешёвых» и «дорогих» книг. Выведу значение p-value."
      ],
      "metadata": {
        "id": "Vae1qMEzikEM"
      }
    },
    {
      "cell_type": "markdown",
      "source": [
        "Тест Левена позволяет определить, отличаются ли дисперсии двух выборок. Результат теста включает значение p-value, которое указывает на уровень значимости. Если p-value меньше выбранного уровня значимости (0.05), это означает, что дисперсии групп статистически различаются. Если p-value больше, можно предположить, что дисперсии равны, что является важным предположением для t-тест для независимых выборок."
      ],
      "metadata": {
        "id": "xjwL2sLWfksc"
      }
    },
    {
      "cell_type": "code",
      "source": [
        "# Тест для определения равенства дисперсий у «дешёвых» и «дорогих» книг. Выведу значение p-value.\n",
        "rating_cheap_books = df[df['Price (Above Average)'] == \"Yes\"]['User Rating']\n",
        "rating_exp_books = df[df['Price (Above Average)'] == 'No']['User Rating']\n",
        "\n",
        "levene(rating_cheap_books, rating_exp_books)"
      ],
      "metadata": {
        "colab": {
          "base_uri": "https://localhost:8080/"
        },
        "id": "RsDuNRPGijCO",
        "outputId": "fb66b6dc-c7ce-4e4d-daba-87f42525d1c6"
      },
      "execution_count": 8,
      "outputs": [
        {
          "output_type": "execute_result",
          "data": {
            "text/plain": [
              "LeveneResult(statistic=2.651594150563384, pvalue=0.10402083833234738)"
            ]
          },
          "metadata": {},
          "execution_count": 8
        }
      ]
    },
    {
      "cell_type": "markdown",
      "source": [
        "Поскольку значение p-value в тесте на равенство дисперсий больше 0,05, можно принять нулевую гипотезу о равенстве дисперсий. Это означает, что дисперсии рейтингов «дешёвых» и «дорогих» книг могут быть равны. Необходимо отразить это в t-тесте."
      ],
      "metadata": {
        "id": "Nt39RkcBvs0W"
      }
    },
    {
      "cell_type": "code",
      "source": [
        "# Тест для определения равенства средних.  Выведу значение p-value.\n",
        "ttest_ind(rating_cheap_books, rating_exp_books, equal_var=True)"
      ],
      "metadata": {
        "colab": {
          "base_uri": "https://localhost:8080/"
        },
        "id": "OZzMR9WHpqVK",
        "outputId": "048091f5-7e64-4e93-a775-6a3a106affb1"
      },
      "execution_count": 9,
      "outputs": [
        {
          "output_type": "execute_result",
          "data": {
            "text/plain": [
              "TtestResult(statistic=-4.503000810873089, pvalue=8.190934970309897e-06, df=548.0)"
            ]
          },
          "metadata": {},
          "execution_count": 9
        }
      ]
    },
    {
      "cell_type": "markdown",
      "source": [
        "Поскольку значение p-value больше 0,05 в тесте на независимость средней оценки от цены, можно с уверенностью утверждать, что средняя оценка книг не зависит от их цены.\n",
        "\n",
        "---\n",
        "\n"
      ],
      "metadata": {
        "id": "Cyk25sCLwSqK"
      }
    },
    {
      "cell_type": "markdown",
      "source": [
        "**Вывод**\n",
        "\n",
        "В результате исследования выяснилось, что рейтинг книги не зависит от её цены. Это может означать, что пользователи оценивают книги не только по их стоимости, но и по другим параметрам, таким как качество содержания, оформление и т.д."
      ],
      "metadata": {
        "id": "Wm3YK_p70wkq"
      }
    },
    {
      "cell_type": "markdown",
      "source": [
        "## Влияние рейтинга книги на количество рецензий: исследование взаимосвязи с помощью теста ANOVA"
      ],
      "metadata": {
        "id": "Wg2VmVb6zM-K"
      }
    },
    {
      "cell_type": "markdown",
      "source": [
        "**Цель исследования:** проверить гипотезу о том, что рейтинг книги в каждой из трёх сформированных групп зависит от количества рецензий. Люди более склонны писать отзывы на хорошие произведения.\n"
      ],
      "metadata": {
        "id": "VspVhv2KzQNR"
      }
    },
    {
      "cell_type": "markdown",
      "source": [
        "В данном исследование выполняется однофакторный дисперсионный анализ (ANOVA) для проверки различий в количестве отзывов (Reviews) между тремя группами книг с разными пользовательскими оценками (User Rating): 5, 4 и 3.\n",
        "\n",
        "Функция f_oneway из библиотеки scipy.stats используется для вычисления статистики F и соответствующего p-value.\n",
        "\n",
        "Если p-value меньше выбранного уровня значимости (обычно 0.05), это указывает на то, что существует статистически значимая разница в средних значениях количества отзывов между хотя бы двумя из этих групп. Если p-value больше 0.05, то нельзя отвергнуть нулевую гипотезу о равенстве средних значений."
      ],
      "metadata": {
        "id": "kXop3vdJgD7g"
      }
    },
    {
      "cell_type": "code",
      "source": [
        " # Уникальные значения рейтинга\n",
        " df['User Rating (Round)'].unique()"
      ],
      "metadata": {
        "colab": {
          "base_uri": "https://localhost:8080/"
        },
        "id": "BhcW1rei1xqf",
        "outputId": "e14d33b6-9eba-479f-844e-d643137f613b"
      },
      "execution_count": 10,
      "outputs": [
        {
          "output_type": "execute_result",
          "data": {
            "text/plain": [
              "array([5, 4, 3])"
            ]
          },
          "metadata": {},
          "execution_count": 10
        }
      ]
    },
    {
      "cell_type": "code",
      "source": [
        "ur_5 = df[(df['User Rating (Round)'] == 5)]['Reviews']\n",
        "ur_4 = df[(df['User Rating (Round)'] == 4)]['Reviews']\n",
        "ur_3 = df[(df['User Rating (Round)'] == 3)]['Reviews']\n",
        "\n",
        "f_oneway(ur_5, ur_4, ur_3)"
      ],
      "metadata": {
        "colab": {
          "base_uri": "https://localhost:8080/"
        },
        "id": "ivszcJ-dzb56",
        "outputId": "862d245b-3388-4b7e-f61c-19d9194781e6"
      },
      "execution_count": 11,
      "outputs": [
        {
          "output_type": "execute_result",
          "data": {
            "text/plain": [
              "F_onewayResult(statistic=1.2154159601375543, pvalue=0.2973862975123414)"
            ]
          },
          "metadata": {},
          "execution_count": 11
        }
      ]
    },
    {
      "cell_type": "markdown",
      "source": [
        "**Вывод**\n",
        "\n",
        "Согласно порогу p-value (0,297 > 0,05), нельзя отвергнуть нулевую гипотезу. Это означает, что рейтинг книги в каждой из трёх групп не зависит от количества рецензий."
      ],
      "metadata": {
        "id": "9GxwIFsvzTgG"
      }
    },
    {
      "cell_type": "markdown",
      "source": [
        "## Общий вывод"
      ],
      "metadata": {
        "id": "wGGqbCe_6wxl"
      }
    },
    {
      "cell_type": "markdown",
      "source": [
        "В ходе исследования не было обнаружено существенной взаимосвязи между ценой книги и её рейтингом, а также между количеством рецензий и рейтингом в трёх группах. В каждой из этих групп были представлены округлённые до целого значения среднего пользовательского рейтинга.\n",
        "\n",
        "Это может указывать на то, что пользователи оценивают книги по различным критериям, которые не были учтены в данном анализе.\n",
        "\n",
        "Для более точных выводов необходимо провести дополнительное исследование, включая большее количество параметров."
      ],
      "metadata": {
        "id": "a7YfCxAR6z_5"
      }
    }
  ]
}