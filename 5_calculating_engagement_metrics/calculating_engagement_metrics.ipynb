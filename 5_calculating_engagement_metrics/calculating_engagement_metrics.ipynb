{
  "nbformat": 4,
  "nbformat_minor": 0,
  "metadata": {
    "colab": {
      "provenance": [],
      "toc_visible": true
    },
    "kernelspec": {
      "name": "python3",
      "display_name": "Python 3"
    },
    "language_info": {
      "name": "python"
    }
  },
  "cells": [
    {
      "cell_type": "markdown",
      "source": [
        "# Анализ пользовательской активности и удержания для оптимизации продукта\n",
        "\n",
        "**Описание проекта:**\n",
        "Проект направлен на анализ ключевых метрик пользовательской активности и удержания для оценки эффективности продукта и выявления точек роста. В рамках проекта будут рассчитаны следующие показатели:\n",
        "\n",
        "* retention\n",
        "* rolling retention\n",
        "* lifetime\n",
        "* churn rate\n",
        "* mau\n",
        "* wau\n",
        "* dau"
      ],
      "metadata": {
        "id": "T_xBU6WvyPhY"
      }
    },
    {
      "cell_type": "markdown",
      "source": [
        "Файлами для работы являются `registrations.csv` и `entries.csv`. В них хранятся данные о регистрациях пользователей и входа на платформу соответственно."
      ],
      "metadata": {
        "id": "Cd2c07PKSIYP"
      }
    },
    {
      "cell_type": "markdown",
      "source": [
        "# Импорт библиотек"
      ],
      "metadata": {
        "id": "QQpVvE19R8qf"
      }
    },
    {
      "cell_type": "code",
      "source": [
        "import pandas as pd"
      ],
      "metadata": {
        "id": "LG4JVd0LMDgD"
      },
      "execution_count": null,
      "outputs": []
    },
    {
      "cell_type": "markdown",
      "source": [
        "# Загрузка данных"
      ],
      "metadata": {
        "id": "QiR7FYsESCCp"
      }
    },
    {
      "cell_type": "code",
      "execution_count": null,
      "metadata": {
        "id": "3eJFMuMpyCp-",
        "colab": {
          "base_uri": "https://localhost:8080/"
        },
        "outputId": "2c1570ce-9c70-4fc5-fd34-930663d69065"
      },
      "outputs": [
        {
          "output_type": "stream",
          "name": "stdout",
          "text": [
            "--2025-03-24 12:01:02--  https://gist.github.com/Vs8th/739269a03f2f4a7396d04d6739da3771/raw/registrations.csv\n",
            "Resolving gist.github.com (gist.github.com)... 20.27.177.113\n",
            "Connecting to gist.github.com (gist.github.com)|20.27.177.113|:443... connected.\n",
            "HTTP request sent, awaiting response... 301 Moved Permanently\n",
            "Location: https://gist.githubusercontent.com/Vs8th/739269a03f2f4a7396d04d6739da3771/raw/registrations.csv [following]\n",
            "--2025-03-24 12:01:03--  https://gist.githubusercontent.com/Vs8th/739269a03f2f4a7396d04d6739da3771/raw/registrations.csv\n",
            "Resolving gist.githubusercontent.com (gist.githubusercontent.com)... 185.199.109.133, 185.199.108.133, 185.199.111.133, ...\n",
            "Connecting to gist.githubusercontent.com (gist.githubusercontent.com)|185.199.109.133|:443... connected.\n",
            "HTTP request sent, awaiting response... 200 OK\n",
            "Length: 14918 (15K) [text/plain]\n",
            "Saving to: ‘registrations.csv.2’\n",
            "\n",
            "registrations.csv.2 100%[===================>]  14.57K  --.-KB/s    in 0.004s  \n",
            "\n",
            "2025-03-24 12:01:03 (3.31 MB/s) - ‘registrations.csv.2’ saved [14918/14918]\n",
            "\n",
            "--2025-03-24 12:01:03--  https://gist.github.com/Vs8th/aacb80595d1d6aaa2e31eb735f8bc644/raw/entries.csv\n",
            "Resolving gist.github.com (gist.github.com)... 20.27.177.113\n",
            "Connecting to gist.github.com (gist.github.com)|20.27.177.113|:443... connected.\n",
            "HTTP request sent, awaiting response... 301 Moved Permanently\n",
            "Location: https://gist.githubusercontent.com/Vs8th/aacb80595d1d6aaa2e31eb735f8bc644/raw/entries.csv [following]\n",
            "--2025-03-24 12:01:04--  https://gist.githubusercontent.com/Vs8th/aacb80595d1d6aaa2e31eb735f8bc644/raw/entries.csv\n",
            "Resolving gist.githubusercontent.com (gist.githubusercontent.com)... 185.199.109.133, 185.199.108.133, 185.199.111.133, ...\n",
            "Connecting to gist.githubusercontent.com (gist.githubusercontent.com)|185.199.109.133|:443... connected.\n",
            "HTTP request sent, awaiting response... 200 OK\n",
            "Length: 308588 (301K) [text/plain]\n",
            "Saving to: ‘entries.csv.2’\n",
            "\n",
            "entries.csv.2       100%[===================>] 301.36K  1.75MB/s    in 0.2s    \n",
            "\n",
            "2025-03-24 12:01:04 (1.75 MB/s) - ‘entries.csv.2’ saved [308588/308588]\n",
            "\n",
            "--2025-03-24 12:01:04--  https://gist.github.com/Vs8th/0e827e9a608117345dd6585ab81e8c86/raw/metrics.txt\n",
            "Resolving gist.github.com (gist.github.com)... 20.27.177.113\n",
            "Connecting to gist.github.com (gist.github.com)|20.27.177.113|:443... connected.\n",
            "HTTP request sent, awaiting response... 301 Moved Permanently\n",
            "Location: https://gist.githubusercontent.com/Vs8th/0e827e9a608117345dd6585ab81e8c86/raw/metrics.txt [following]\n",
            "--2025-03-24 12:01:05--  https://gist.githubusercontent.com/Vs8th/0e827e9a608117345dd6585ab81e8c86/raw/metrics.txt\n",
            "Resolving gist.githubusercontent.com (gist.githubusercontent.com)... 185.199.109.133, 185.199.108.133, 185.199.111.133, ...\n",
            "Connecting to gist.githubusercontent.com (gist.githubusercontent.com)|185.199.109.133|:443... connected.\n",
            "HTTP request sent, awaiting response... 200 OK\n",
            "Length: 67 [text/plain]\n",
            "Saving to: ‘metrics.txt.2’\n",
            "\n",
            "metrics.txt.2       100%[===================>]      67  --.-KB/s    in 0s      \n",
            "\n",
            "2025-03-24 12:01:05 (3.53 MB/s) - ‘metrics.txt.2’ saved [67/67]\n",
            "\n"
          ]
        }
      ],
      "source": [
        "!wget https://gist.github.com/Vs8th/739269a03f2f4a7396d04d6739da3771/raw/registrations.csv\n",
        "\n",
        "!wget https://gist.github.com/Vs8th/aacb80595d1d6aaa2e31eb735f8bc644/raw/entries.csv\n",
        "\n",
        "!wget https://gist.github.com/Vs8th/0e827e9a608117345dd6585ab81e8c86/raw/metrics.txt"
      ]
    },
    {
      "cell_type": "code",
      "source": [
        "registrations = pd.read_csv('registrations.csv', sep = ';')\n",
        "entries = pd.read_csv('entries.csv', sep = ';')"
      ],
      "metadata": {
        "id": "w_6MlMTTL5HN"
      },
      "execution_count": null,
      "outputs": []
    },
    {
      "cell_type": "code",
      "source": [
        "registrations.info()"
      ],
      "metadata": {
        "colab": {
          "base_uri": "https://localhost:8080/"
        },
        "id": "mUT6KHn2MNoo",
        "outputId": "9bac281b-27c7-40df-9a1a-cb30cdfdd680"
      },
      "execution_count": null,
      "outputs": [
        {
          "output_type": "stream",
          "name": "stdout",
          "text": [
            "<class 'pandas.core.frame.DataFrame'>\n",
            "RangeIndex: 1000 entries, 0 to 999\n",
            "Data columns (total 2 columns):\n",
            " #   Column             Non-Null Count  Dtype \n",
            "---  ------             --------------  ----- \n",
            " 0   user_id            1000 non-null   int64 \n",
            " 1   registration_date  1000 non-null   object\n",
            "dtypes: int64(1), object(1)\n",
            "memory usage: 15.8+ KB\n"
          ]
        }
      ]
    },
    {
      "cell_type": "code",
      "source": [
        "entries.info()"
      ],
      "metadata": {
        "colab": {
          "base_uri": "https://localhost:8080/"
        },
        "id": "XqorFXK64Vnz",
        "outputId": "5df528b6-6436-4005-bf54-27ac45ada859"
      },
      "execution_count": null,
      "outputs": [
        {
          "output_type": "stream",
          "name": "stdout",
          "text": [
            "<class 'pandas.core.frame.DataFrame'>\n",
            "RangeIndex: 20734 entries, 0 to 20733\n",
            "Data columns (total 2 columns):\n",
            " #   Column      Non-Null Count  Dtype \n",
            "---  ------      --------------  ----- \n",
            " 0   user_id     20734 non-null  int64 \n",
            " 1   entry_date  20734 non-null  object\n",
            "dtypes: int64(1), object(1)\n",
            "memory usage: 324.1+ KB\n"
          ]
        }
      ]
    },
    {
      "cell_type": "markdown",
      "source": [
        "# Расчет метрик"
      ],
      "metadata": {
        "id": "u19vhvtN-da3"
      }
    },
    {
      "cell_type": "markdown",
      "source": [
        "### **Retention 15 дня**\n",
        "\n",
        "Retention 15 дня (в процентах) для пользователей, зарегистрированных в январе"
      ],
      "metadata": {
        "id": "s2g2hxfMzqLo"
      }
    },
    {
      "cell_type": "markdown",
      "source": [
        "**Retention (Удержание пользователей)** — процент пользователей, которые вернулись на платформу через определенное время после регистрации от всех зарегистрированных пользователей. Например, Retention 7-го дня показывает, сколько пользователей из зарегистрированных вернулись к нам через неделю после регистрации."
      ],
      "metadata": {
        "id": "WyscQQ8jSgx0"
      }
    },
    {
      "cell_type": "code",
      "source": [
        "# Преобразование дат в формат datetime\n",
        "registrations['registration_date'] = pd.to_datetime(registrations['registration_date'])\n",
        "entries['entry_date'] = pd.to_datetime(entries['entry_date'])"
      ],
      "metadata": {
        "id": "1caur7pTPy0_"
      },
      "execution_count": null,
      "outputs": []
    },
    {
      "cell_type": "code",
      "source": [
        "# Фильтрация пользователей, зарегистрированных в январе\n",
        "january_registrations = registrations[registrations['registration_date'].dt.month == 1]"
      ],
      "metadata": {
        "id": "bC3DGBhrPyyZ"
      },
      "execution_count": null,
      "outputs": []
    },
    {
      "cell_type": "code",
      "source": [
        "# Объединение данных о регистрациях и входах\n",
        "january_merged_data = pd.merge(january_registrations, entries, on='user_id', how='left')"
      ],
      "metadata": {
        "id": "18bs8Vv0PyvC"
      },
      "execution_count": null,
      "outputs": []
    },
    {
      "cell_type": "code",
      "source": [
        "# Расчет разницы в днях между входом и регистрацией\n",
        "january_merged_data['days_since_registration'] = (january_merged_data['entry_date'] - january_merged_data['registration_date']).dt.days"
      ],
      "metadata": {
        "id": "E5PZ5L5wQAsY"
      },
      "execution_count": null,
      "outputs": []
    },
    {
      "cell_type": "code",
      "source": [
        "# Проверка, был ли вход на 15 день\n",
        "january_merged_data['retention_15_day'] = january_merged_data['days_since_registration'] == 15"
      ],
      "metadata": {
        "id": "fRowXIttQApT"
      },
      "execution_count": null,
      "outputs": []
    },
    {
      "cell_type": "code",
      "source": [
        "# Группировка по пользователям и проверка, был ли у них вход на 15 день\n",
        "retention_15_day = january_merged_data.groupby('user_id')['retention_15_day'].any()"
      ],
      "metadata": {
        "id": "v4cqBCxYPyrK"
      },
      "execution_count": null,
      "outputs": []
    },
    {
      "cell_type": "code",
      "source": [
        "# Расчет Retention 15 дня в процентах\n",
        "retention_15_day = round(retention_15_day.mean() * 100, 5)"
      ],
      "metadata": {
        "id": "RXZjSCLeQOsp"
      },
      "execution_count": null,
      "outputs": []
    },
    {
      "cell_type": "code",
      "source": [
        "print(f\"Retention 15 дня для пользователей, зарегистрированных в январе: {retention_15_day:.2f}%\")"
      ],
      "metadata": {
        "colab": {
          "base_uri": "https://localhost:8080/"
        },
        "id": "R8gPHmXMQOpx",
        "outputId": "ed9a44d0-9b5d-4414-e62f-e105f79dc45b"
      },
      "execution_count": null,
      "outputs": [
        {
          "output_type": "stream",
          "name": "stdout",
          "text": [
            "Retention 15 дня для пользователей, зарегистрированных в январе: 54.65%\n"
          ]
        }
      ]
    },
    {
      "cell_type": "markdown",
      "source": [
        "### Rolling-retention\n",
        "\n",
        "Rolling-retention 30 дня (в процентах) для пользователей из той же когорты"
      ],
      "metadata": {
        "id": "TbkdEVLI0Cor"
      }
    },
    {
      "cell_type": "markdown",
      "source": [
        "**Rolling Retention (Скользящее удержание)** — похоже на обычное удержание, но учитывает пользователей, которые вернулись на платформу не только в конкретный день, но и позже. Например, Rolling Retention на 7-й день показывает, сколько пользователей вернулись на платформу через 7 дней или позже."
      ],
      "metadata": {
        "id": "qsiPMKTfTEbN"
      }
    },
    {
      "cell_type": "code",
      "source": [
        "# Проверка, был ли вход на 30 день или позже\n",
        "january_merged_data['rolling_retention_30_day'] = january_merged_data['days_since_registration'] >= 30\n",
        "\n",
        "# Группировка по пользователям и проверка, был ли у них вход на 30 день или позже\n",
        "rolling_retention_30_day = january_merged_data.groupby('user_id')['rolling_retention_30_day'].any()\n",
        "\n",
        "# Расчет Retention 30 дня в процентах\n",
        "rolling_retention_30_day = round(rolling_retention_30_day.mean() * 100, 5)\n",
        "\n",
        "print(f\"Rolling Retention 30 дня для пользователей, зарегистрированных в январе: {rolling_retention_30_day:.2f}%\")"
      ],
      "metadata": {
        "id": "keCBmUDJ0Hho",
        "colab": {
          "base_uri": "https://localhost:8080/"
        },
        "outputId": "d9ae1778-5714-4da3-8337-66e6bbadea30"
      },
      "execution_count": null,
      "outputs": [
        {
          "output_type": "stream",
          "name": "stdout",
          "text": [
            "Rolling Retention 30 дня для пользователей, зарегистрированных в январе: 29.07%\n"
          ]
        }
      ]
    },
    {
      "cell_type": "markdown",
      "source": [
        "### Lifetime\n",
        "\n",
        "Lifetime по всем пользователям, посчитанный как интеграл от n-day retention."
      ],
      "metadata": {
        "id": "wxkhEVmF0PAo"
      }
    },
    {
      "cell_type": "markdown",
      "source": [
        "**Lifetime (Средний срок жизни пользователя)** — среднее время, которое пользователь остается активным на платформе, прежде чем перестать заходить. Можем рассчитать как сумму Retention каждого дня. Например, для каждого дня считаем отношение: количество пользователей, вернувшихся в день N, к количеству зарегистрированных пользователей. Затем суммируем эти значения."
      ],
      "metadata": {
        "id": "FvnVSoBdTVBP"
      }
    },
    {
      "cell_type": "code",
      "source": [
        "# Объединение данных о регистрациях и входах\n",
        "df = pd.merge(registrations, entries, on='user_id', how='left')\n",
        "\n",
        "# Общее число зарегистрированных пользователей (знаменатель для Retention)\n",
        "total_users = df['user_id'].nunique()\n",
        "\n",
        "# Расчет разницы в днях между входом и регистрацией\n",
        "df['days_since_registration'] = (df['entry_date'] - df['registration_date']).dt.days\n",
        "\n",
        "# Группировка по дням и подсчёт уникальных пользователей в каждый день\n",
        "daily_active_users = df.groupby('days_since_registration')['user_id'].nunique()\n",
        "\n",
        "# Расчёт Retention для каждого дня и суммирование (Lifetime)\n",
        "retention_series = daily_active_users / total_users\n",
        "lifetime = round(retention_series.sum(), 5)\n",
        "\n",
        "print(f\"Lifetime: {lifetime:.2f}\")"
      ],
      "metadata": {
        "id": "KS17l5Ux0UD3",
        "colab": {
          "base_uri": "https://localhost:8080/"
        },
        "outputId": "750c8770-6648-4482-b25a-593d7b2507a1"
      },
      "execution_count": null,
      "outputs": [
        {
          "output_type": "stream",
          "name": "stdout",
          "text": [
            "Lifetime: 14.80\n"
          ]
        }
      ]
    },
    {
      "cell_type": "markdown",
      "source": [
        "### Churn rate 29 дня\n",
        "\n",
        "Churn rate 29 дня (в долях), посчитанный по всем пользователям."
      ],
      "metadata": {
        "id": "OrwoZ-wR0jJq"
      }
    },
    {
      "cell_type": "markdown",
      "source": [
        "**Churn Rate (Коэффициент оттока)** — процент пользователей, которые перестали пользоваться платформой за определенный период. Например, если из 100 пользователей 10 больше к нам не вернулись спустя месяц, то Churn Rate за этот месяц составит 10%."
      ],
      "metadata": {
        "id": "wiTSxtShTkbR"
      }
    },
    {
      "cell_type": "code",
      "source": [
        "# Проверка, был ли вход на 29 день\n",
        "df['churn_29'] = df['days_since_registration'] >= 29\n",
        "\n",
        "# Группировка по пользователям\n",
        "churn_29 = 1 - df.groupby('user_id')['churn_29'].any().mean()\n",
        "\n",
        "print(f\"Churn Rate 29 дня (в долях), посчитанный по всем пользователям: {churn_29*100:.2f}%\")"
      ],
      "metadata": {
        "id": "hKN7vidq0mJ3",
        "colab": {
          "base_uri": "https://localhost:8080/"
        },
        "outputId": "0f62b3be-bb59-4da3-f8d4-d4badaa0eaea"
      },
      "execution_count": null,
      "outputs": [
        {
          "output_type": "stream",
          "name": "stdout",
          "text": [
            "Churn Rate 29 дня (в долях), посчитанный по всем пользователям: 50.90%\n"
          ]
        }
      ]
    },
    {
      "cell_type": "markdown",
      "source": [
        "### Mau, Wau, Dau\n",
        "\n",
        "Mau, Wau, Dau за последний месяц/неделю/день записей\n",
        "\n",
        "**Примечание:** `mau` рассчитываем для декабря (2021 года), для `wau` берем последнюю неделю - с 25 по 31 декабря, и для `dau` соответственно последний день - 31 декабря."
      ],
      "metadata": {
        "id": "QuO3ZwRI5mdH"
      }
    },
    {
      "cell_type": "markdown",
      "source": [
        "MAU (Monthly Active Users, Месячная аудитория) — количество уникальных пользователей, которые зашли на платформу за последний месяц.\n",
        "\n",
        "WAU (Weekly Active Users, Недельная аудитория) — количество уникальных пользователей, которые зашли на платформу за последнюю неделю.\n",
        "\n",
        "DAU (Daily Active Users, Ежедневная аудитория) — количество уникальных пользователей, которые зашли на платформу за последний день."
      ],
      "metadata": {
        "id": "lE7Ip4gTyj1Z"
      }
    },
    {
      "cell_type": "code",
      "source": [
        "dec_mau = df[df['entry_date'].dt.month == 12]['user_id'].nunique()\n",
        "print(f'MAU:{dec_mau}')"
      ],
      "metadata": {
        "id": "HxGWkaSp5kpo",
        "colab": {
          "base_uri": "https://localhost:8080/"
        },
        "outputId": "17151e77-8e4f-4c1e-9450-8e80a75c65b0"
      },
      "execution_count": null,
      "outputs": [
        {
          "output_type": "stream",
          "name": "stdout",
          "text": [
            "MAU:133\n"
          ]
        }
      ]
    },
    {
      "cell_type": "code",
      "source": [
        "dec_wau = df[df['entry_date'].between('2021-12-25', '2021-12-31')]['user_id'].nunique()\n",
        "print(f'WAU:{dec_wau}')"
      ],
      "metadata": {
        "id": "urEWcCuk522y",
        "colab": {
          "base_uri": "https://localhost:8080/"
        },
        "outputId": "315bc61a-28df-4149-bafe-995288c5de34"
      },
      "execution_count": null,
      "outputs": [
        {
          "output_type": "stream",
          "name": "stdout",
          "text": [
            "WAU:84\n"
          ]
        }
      ]
    },
    {
      "cell_type": "code",
      "source": [
        "dec_dau = df[df['entry_date'] == '2021-12-31']['user_id'].nunique()\n",
        "print(f'DAU:{dec_dau}')"
      ],
      "metadata": {
        "id": "hv7Nz3TN59Ds",
        "colab": {
          "base_uri": "https://localhost:8080/"
        },
        "outputId": "0e0e8f68-0f2a-49f1-b404-5684213ab031"
      },
      "execution_count": null,
      "outputs": [
        {
          "output_type": "stream",
          "name": "stdout",
          "text": [
            "DAU:47\n"
          ]
        }
      ]
    },
    {
      "cell_type": "markdown",
      "source": [
        "### Mau, Wau, Dau усредненные\n",
        "\n",
        "\n",
        "**Примечание:** результаты округлите до 5 знаков после запятой. Сохранить результат в переменные `avg_mau`, `avg_wau`, `avg_dau` соответственно"
      ],
      "metadata": {
        "id": "gzElxXgv6Dyr"
      }
    },
    {
      "cell_type": "markdown",
      "source": [
        "Усредненные MAU/WAU/DAU - например, для MAU: рассчитываем MAU каждого месяца наблюдений, а затем находим среднее значение по всем месяцам. Аналогично для WAU и DAU."
      ],
      "metadata": {
        "id": "IS-F_bBTT5RW"
      }
    },
    {
      "cell_type": "code",
      "source": [
        "avg_mau = df.groupby(df['entry_date'].dt.to_period('M'))['user_id'].nunique().mean()\n",
        "avg_mau = round(avg_mau, 5)\n",
        "print(f'Усредненный MAU:{avg_mau:.2f}')"
      ],
      "metadata": {
        "id": "mUDYPPqx6RPr",
        "colab": {
          "base_uri": "https://localhost:8080/"
        },
        "outputId": "32930d79-b262-4cce-b5ca-d3e0695b033d"
      },
      "execution_count": null,
      "outputs": [
        {
          "output_type": "stream",
          "name": "stdout",
          "text": [
            "Усредненный MAU:102.58\n"
          ]
        }
      ]
    },
    {
      "cell_type": "code",
      "source": [
        "avg_wau = df.groupby(df['entry_date'].dt.to_period('W'))['user_id'].nunique().mean()\n",
        "avg_wau = round(avg_wau, 5)\n",
        "print(f'Усредненный WAU:{avg_wau:.2f}')"
      ],
      "metadata": {
        "id": "WydV9g9C6x7O",
        "colab": {
          "base_uri": "https://localhost:8080/"
        },
        "outputId": "f02e3704-ed6b-49b8-ea70-8e4dc24fcd85"
      },
      "execution_count": null,
      "outputs": [
        {
          "output_type": "stream",
          "name": "stdout",
          "text": [
            "Усредненный WAU:89.87\n"
          ]
        }
      ]
    },
    {
      "cell_type": "code",
      "source": [
        "avg_dau = df.groupby(df['entry_date'].dt.to_period('D'))['user_id'].nunique().mean()\n",
        "avg_dau = round(avg_dau, 5)\n",
        "print(f'Усредненный DAU:{avg_dau:.2f}')"
      ],
      "metadata": {
        "id": "NgqOR38d64_T",
        "colab": {
          "base_uri": "https://localhost:8080/"
        },
        "outputId": "31ed9fe2-3d9d-488d-9526-5965fef37db9"
      },
      "execution_count": null,
      "outputs": [
        {
          "output_type": "stream",
          "name": "stdout",
          "text": [
            "Усредненный DAU:40.56\n"
          ]
        }
      ]
    },
    {
      "cell_type": "markdown",
      "source": [
        "# Итоговая таблица"
      ],
      "metadata": {
        "id": "O_YX2BnhARaX"
      }
    },
    {
      "cell_type": "code",
      "source": [
        "metrics = {'retention_15_day': retention_15_day,\n",
        "           'rolling_retention_30_day': rolling_retention_30_day,\n",
        "           'lifetime': lifetime,\n",
        "           'churn_29': churn_29,\n",
        "           'dec_mau': dec_mau,\n",
        "           'avg_mau': avg_mau,\n",
        "           'dec_wau': dec_wau,\n",
        "           'avg_wau': avg_wau,\n",
        "           'dec_dau': dec_dau,\n",
        "           'avg_dau': avg_dau}"
      ],
      "metadata": {
        "id": "-cYv5syxAUCc"
      },
      "execution_count": null,
      "outputs": []
    },
    {
      "cell_type": "code",
      "source": [
        "metrics = pd.DataFrame.from_dict(metrics, orient='index', columns=['value'])\n",
        "metrics"
      ],
      "metadata": {
        "colab": {
          "base_uri": "https://localhost:8080/",
          "height": 363
        },
        "id": "3ZIP5Pt2BUnp",
        "outputId": "fbaf1098-7cff-4030-fd4f-1ec849dfff9d"
      },
      "execution_count": null,
      "outputs": [
        {
          "output_type": "execute_result",
          "data": {
            "text/plain": [
              "                              value\n",
              "retention_15_day           54.65116\n",
              "rolling_retention_30_day   29.06977\n",
              "lifetime                   14.80400\n",
              "churn_29                    0.50900\n",
              "dec_mau                   133.00000\n",
              "avg_mau                   102.58333\n",
              "dec_wau                    84.00000\n",
              "avg_wau                    89.86792\n",
              "dec_dau                    47.00000\n",
              "avg_dau                    40.55890"
            ],
            "text/html": [
              "\n",
              "  <div id=\"df-4f9e225a-afc8-42bc-ac5b-216779dffdb0\" class=\"colab-df-container\">\n",
              "    <div>\n",
              "<style scoped>\n",
              "    .dataframe tbody tr th:only-of-type {\n",
              "        vertical-align: middle;\n",
              "    }\n",
              "\n",
              "    .dataframe tbody tr th {\n",
              "        vertical-align: top;\n",
              "    }\n",
              "\n",
              "    .dataframe thead th {\n",
              "        text-align: right;\n",
              "    }\n",
              "</style>\n",
              "<table border=\"1\" class=\"dataframe\">\n",
              "  <thead>\n",
              "    <tr style=\"text-align: right;\">\n",
              "      <th></th>\n",
              "      <th>value</th>\n",
              "    </tr>\n",
              "  </thead>\n",
              "  <tbody>\n",
              "    <tr>\n",
              "      <th>retention_15_day</th>\n",
              "      <td>54.65116</td>\n",
              "    </tr>\n",
              "    <tr>\n",
              "      <th>rolling_retention_30_day</th>\n",
              "      <td>29.06977</td>\n",
              "    </tr>\n",
              "    <tr>\n",
              "      <th>lifetime</th>\n",
              "      <td>14.80400</td>\n",
              "    </tr>\n",
              "    <tr>\n",
              "      <th>churn_29</th>\n",
              "      <td>0.50900</td>\n",
              "    </tr>\n",
              "    <tr>\n",
              "      <th>dec_mau</th>\n",
              "      <td>133.00000</td>\n",
              "    </tr>\n",
              "    <tr>\n",
              "      <th>avg_mau</th>\n",
              "      <td>102.58333</td>\n",
              "    </tr>\n",
              "    <tr>\n",
              "      <th>dec_wau</th>\n",
              "      <td>84.00000</td>\n",
              "    </tr>\n",
              "    <tr>\n",
              "      <th>avg_wau</th>\n",
              "      <td>89.86792</td>\n",
              "    </tr>\n",
              "    <tr>\n",
              "      <th>dec_dau</th>\n",
              "      <td>47.00000</td>\n",
              "    </tr>\n",
              "    <tr>\n",
              "      <th>avg_dau</th>\n",
              "      <td>40.55890</td>\n",
              "    </tr>\n",
              "  </tbody>\n",
              "</table>\n",
              "</div>\n",
              "    <div class=\"colab-df-buttons\">\n",
              "\n",
              "  <div class=\"colab-df-container\">\n",
              "    <button class=\"colab-df-convert\" onclick=\"convertToInteractive('df-4f9e225a-afc8-42bc-ac5b-216779dffdb0')\"\n",
              "            title=\"Convert this dataframe to an interactive table.\"\n",
              "            style=\"display:none;\">\n",
              "\n",
              "  <svg xmlns=\"http://www.w3.org/2000/svg\" height=\"24px\" viewBox=\"0 -960 960 960\">\n",
              "    <path d=\"M120-120v-720h720v720H120Zm60-500h600v-160H180v160Zm220 220h160v-160H400v160Zm0 220h160v-160H400v160ZM180-400h160v-160H180v160Zm440 0h160v-160H620v160ZM180-180h160v-160H180v160Zm440 0h160v-160H620v160Z\"/>\n",
              "  </svg>\n",
              "    </button>\n",
              "\n",
              "  <style>\n",
              "    .colab-df-container {\n",
              "      display:flex;\n",
              "      gap: 12px;\n",
              "    }\n",
              "\n",
              "    .colab-df-convert {\n",
              "      background-color: #E8F0FE;\n",
              "      border: none;\n",
              "      border-radius: 50%;\n",
              "      cursor: pointer;\n",
              "      display: none;\n",
              "      fill: #1967D2;\n",
              "      height: 32px;\n",
              "      padding: 0 0 0 0;\n",
              "      width: 32px;\n",
              "    }\n",
              "\n",
              "    .colab-df-convert:hover {\n",
              "      background-color: #E2EBFA;\n",
              "      box-shadow: 0px 1px 2px rgba(60, 64, 67, 0.3), 0px 1px 3px 1px rgba(60, 64, 67, 0.15);\n",
              "      fill: #174EA6;\n",
              "    }\n",
              "\n",
              "    .colab-df-buttons div {\n",
              "      margin-bottom: 4px;\n",
              "    }\n",
              "\n",
              "    [theme=dark] .colab-df-convert {\n",
              "      background-color: #3B4455;\n",
              "      fill: #D2E3FC;\n",
              "    }\n",
              "\n",
              "    [theme=dark] .colab-df-convert:hover {\n",
              "      background-color: #434B5C;\n",
              "      box-shadow: 0px 1px 3px 1px rgba(0, 0, 0, 0.15);\n",
              "      filter: drop-shadow(0px 1px 2px rgba(0, 0, 0, 0.3));\n",
              "      fill: #FFFFFF;\n",
              "    }\n",
              "  </style>\n",
              "\n",
              "    <script>\n",
              "      const buttonEl =\n",
              "        document.querySelector('#df-4f9e225a-afc8-42bc-ac5b-216779dffdb0 button.colab-df-convert');\n",
              "      buttonEl.style.display =\n",
              "        google.colab.kernel.accessAllowed ? 'block' : 'none';\n",
              "\n",
              "      async function convertToInteractive(key) {\n",
              "        const element = document.querySelector('#df-4f9e225a-afc8-42bc-ac5b-216779dffdb0');\n",
              "        const dataTable =\n",
              "          await google.colab.kernel.invokeFunction('convertToInteractive',\n",
              "                                                    [key], {});\n",
              "        if (!dataTable) return;\n",
              "\n",
              "        const docLinkHtml = 'Like what you see? Visit the ' +\n",
              "          '<a target=\"_blank\" href=https://colab.research.google.com/notebooks/data_table.ipynb>data table notebook</a>'\n",
              "          + ' to learn more about interactive tables.';\n",
              "        element.innerHTML = '';\n",
              "        dataTable['output_type'] = 'display_data';\n",
              "        await google.colab.output.renderOutput(dataTable, element);\n",
              "        const docLink = document.createElement('div');\n",
              "        docLink.innerHTML = docLinkHtml;\n",
              "        element.appendChild(docLink);\n",
              "      }\n",
              "    </script>\n",
              "  </div>\n",
              "\n",
              "\n",
              "<div id=\"df-abbdcc41-ef20-4a78-a6e6-8ce44b595e0e\">\n",
              "  <button class=\"colab-df-quickchart\" onclick=\"quickchart('df-abbdcc41-ef20-4a78-a6e6-8ce44b595e0e')\"\n",
              "            title=\"Suggest charts\"\n",
              "            style=\"display:none;\">\n",
              "\n",
              "<svg xmlns=\"http://www.w3.org/2000/svg\" height=\"24px\"viewBox=\"0 0 24 24\"\n",
              "     width=\"24px\">\n",
              "    <g>\n",
              "        <path d=\"M19 3H5c-1.1 0-2 .9-2 2v14c0 1.1.9 2 2 2h14c1.1 0 2-.9 2-2V5c0-1.1-.9-2-2-2zM9 17H7v-7h2v7zm4 0h-2V7h2v10zm4 0h-2v-4h2v4z\"/>\n",
              "    </g>\n",
              "</svg>\n",
              "  </button>\n",
              "\n",
              "<style>\n",
              "  .colab-df-quickchart {\n",
              "      --bg-color: #E8F0FE;\n",
              "      --fill-color: #1967D2;\n",
              "      --hover-bg-color: #E2EBFA;\n",
              "      --hover-fill-color: #174EA6;\n",
              "      --disabled-fill-color: #AAA;\n",
              "      --disabled-bg-color: #DDD;\n",
              "  }\n",
              "\n",
              "  [theme=dark] .colab-df-quickchart {\n",
              "      --bg-color: #3B4455;\n",
              "      --fill-color: #D2E3FC;\n",
              "      --hover-bg-color: #434B5C;\n",
              "      --hover-fill-color: #FFFFFF;\n",
              "      --disabled-bg-color: #3B4455;\n",
              "      --disabled-fill-color: #666;\n",
              "  }\n",
              "\n",
              "  .colab-df-quickchart {\n",
              "    background-color: var(--bg-color);\n",
              "    border: none;\n",
              "    border-radius: 50%;\n",
              "    cursor: pointer;\n",
              "    display: none;\n",
              "    fill: var(--fill-color);\n",
              "    height: 32px;\n",
              "    padding: 0;\n",
              "    width: 32px;\n",
              "  }\n",
              "\n",
              "  .colab-df-quickchart:hover {\n",
              "    background-color: var(--hover-bg-color);\n",
              "    box-shadow: 0 1px 2px rgba(60, 64, 67, 0.3), 0 1px 3px 1px rgba(60, 64, 67, 0.15);\n",
              "    fill: var(--button-hover-fill-color);\n",
              "  }\n",
              "\n",
              "  .colab-df-quickchart-complete:disabled,\n",
              "  .colab-df-quickchart-complete:disabled:hover {\n",
              "    background-color: var(--disabled-bg-color);\n",
              "    fill: var(--disabled-fill-color);\n",
              "    box-shadow: none;\n",
              "  }\n",
              "\n",
              "  .colab-df-spinner {\n",
              "    border: 2px solid var(--fill-color);\n",
              "    border-color: transparent;\n",
              "    border-bottom-color: var(--fill-color);\n",
              "    animation:\n",
              "      spin 1s steps(1) infinite;\n",
              "  }\n",
              "\n",
              "  @keyframes spin {\n",
              "    0% {\n",
              "      border-color: transparent;\n",
              "      border-bottom-color: var(--fill-color);\n",
              "      border-left-color: var(--fill-color);\n",
              "    }\n",
              "    20% {\n",
              "      border-color: transparent;\n",
              "      border-left-color: var(--fill-color);\n",
              "      border-top-color: var(--fill-color);\n",
              "    }\n",
              "    30% {\n",
              "      border-color: transparent;\n",
              "      border-left-color: var(--fill-color);\n",
              "      border-top-color: var(--fill-color);\n",
              "      border-right-color: var(--fill-color);\n",
              "    }\n",
              "    40% {\n",
              "      border-color: transparent;\n",
              "      border-right-color: var(--fill-color);\n",
              "      border-top-color: var(--fill-color);\n",
              "    }\n",
              "    60% {\n",
              "      border-color: transparent;\n",
              "      border-right-color: var(--fill-color);\n",
              "    }\n",
              "    80% {\n",
              "      border-color: transparent;\n",
              "      border-right-color: var(--fill-color);\n",
              "      border-bottom-color: var(--fill-color);\n",
              "    }\n",
              "    90% {\n",
              "      border-color: transparent;\n",
              "      border-bottom-color: var(--fill-color);\n",
              "    }\n",
              "  }\n",
              "</style>\n",
              "\n",
              "  <script>\n",
              "    async function quickchart(key) {\n",
              "      const quickchartButtonEl =\n",
              "        document.querySelector('#' + key + ' button');\n",
              "      quickchartButtonEl.disabled = true;  // To prevent multiple clicks.\n",
              "      quickchartButtonEl.classList.add('colab-df-spinner');\n",
              "      try {\n",
              "        const charts = await google.colab.kernel.invokeFunction(\n",
              "            'suggestCharts', [key], {});\n",
              "      } catch (error) {\n",
              "        console.error('Error during call to suggestCharts:', error);\n",
              "      }\n",
              "      quickchartButtonEl.classList.remove('colab-df-spinner');\n",
              "      quickchartButtonEl.classList.add('colab-df-quickchart-complete');\n",
              "    }\n",
              "    (() => {\n",
              "      let quickchartButtonEl =\n",
              "        document.querySelector('#df-abbdcc41-ef20-4a78-a6e6-8ce44b595e0e button');\n",
              "      quickchartButtonEl.style.display =\n",
              "        google.colab.kernel.accessAllowed ? 'block' : 'none';\n",
              "    })();\n",
              "  </script>\n",
              "</div>\n",
              "    </div>\n",
              "  </div>\n"
            ],
            "application/vnd.google.colaboratory.intrinsic+json": {
              "type": "dataframe",
              "variable_name": "metrics",
              "summary": "{\n  \"name\": \"metrics\",\n  \"rows\": 10,\n  \"fields\": [\n    {\n      \"column\": \"value\",\n      \"properties\": {\n        \"dtype\": \"number\",\n        \"std\": 41.79709026570996,\n        \"min\": 0.509,\n        \"max\": 133.0,\n        \"num_unique_values\": 10,\n        \"samples\": [\n          47.0,\n          29.06977,\n          102.58333\n        ],\n        \"semantic_type\": \"\",\n        \"description\": \"\"\n      }\n    }\n  ]\n}"
            }
          },
          "metadata": {},
          "execution_count": 26
        }
      ]
    },
    {
      "cell_type": "markdown",
      "source": [
        "**Вывод по метрикам:**\n",
        "\n",
        "Показатели демонстрируют умеренную вовлеченность пользователей:\n",
        "\n",
        "**Удержание:**\n",
        "\n",
        "54.65% пользователей возвращаются через 15 дней, но к 30 дням показатель падает до 29.07%, что указывает на потерю интереса в долгосрочной перспективе.\n",
        "\n",
        "Высокий churn_29 (50.9%) подтверждает, что половина пользователей уходит почти через месяц.\n",
        "\n",
        "**Активность (DAU/WAU/MAU):**\n",
        "\n",
        "- Средний DAU (40.56) значительно ниже декабрьского (47), возможен сезонный рост.\n",
        "\n",
        "- WAU (89.87) близок к декабрьскому (84), но MAU (102.58 vs. 133 в декабре) показывает снижение месячной аудитории.\n",
        "\n",
        "- Lifetime (14.8 дней):\n",
        "Короткий цикл жизни пользователей требует улучшения retention-стратегий, особенно после 15 дней.\n",
        "\n",
        "**Рекомендации:** Улучшать долгосрочное удержание (например, через триггерные уведомления, контент-маркетинг), анализировать причины падения MAU и тестировать методы reactivation."
      ],
      "metadata": {
        "id": "tSG2ZVgHCPNE"
      }
    }
  ]
}